{
  "nbformat": 4,
  "nbformat_minor": 0,
  "metadata": {
    "colab": {
      "name": "IMC",
      "provenance": [],
      "collapsed_sections": [],
      "include_colab_link": true
    },
    "kernelspec": {
      "name": "python3",
      "display_name": "Python 3"
    },
    "language_info": {
      "name": "python"
    }
  },
  "cells": [
    {
      "cell_type": "markdown",
      "metadata": {
        "id": "view-in-github",
        "colab_type": "text"
      },
      "source": [
        "<a href=\"https://colab.research.google.com/github/KennethH18/POE-5-1/blob/main/IMC.ipynb\" target=\"_parent\"><img src=\"https://colab.research.google.com/assets/colab-badge.svg\" alt=\"Open In Colab\"/></a>"
      ]
    },
    {
      "cell_type": "code",
      "execution_count": null,
      "metadata": {
        "colab": {
          "base_uri": "https://localhost:8080/"
        },
        "id": "zu_Fp4dgc1s_",
        "outputId": "963b7964-231b-4e92-a21b-1ac05690e7ee"
      },
      "outputs": [
        {
          "output_type": "stream",
          "name": "stdout",
          "text": [
            "20.761245674740486\n"
          ]
        }
      ],
      "source": [
        "#@title Cálculo del IMC { run: \"auto\", vertical-output: true }\n",
        "Estatura =  1.70#@param {type:\"number\"}\n",
        "Peso =  60#@param {type:\"number\"}\n",
        "print(Peso/pow(Estatura,2))\n"
      ]
    }
  ]
}
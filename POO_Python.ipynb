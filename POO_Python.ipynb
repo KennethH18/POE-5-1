{
  "nbformat": 4,
  "nbformat_minor": 0,
  "metadata": {
    "colab": {
      "name": "POO Python",
      "provenance": [],
      "authorship_tag": "ABX9TyNnQ4OVKoBCqA3TghkST88s",
      "include_colab_link": true
    },
    "kernelspec": {
      "name": "python3",
      "display_name": "Python 3"
    },
    "language_info": {
      "name": "python"
    }
  },
  "cells": [
    {
      "cell_type": "markdown",
      "metadata": {
        "id": "view-in-github",
        "colab_type": "text"
      },
      "source": [
        "<a href=\"https://colab.research.google.com/github/KennethH18/POE-5-1/blob/main/POO_Python.ipynb\" target=\"_parent\"><img src=\"https://colab.research.google.com/assets/colab-badge.svg\" alt=\"Open In Colab\"/></a>"
      ]
    },
    {
      "cell_type": "code",
      "execution_count": 6,
      "metadata": {
        "id": "_QK8DOYF4ufs"
      },
      "outputs": [],
      "source": [
        "class persona(): #Clase persona\n",
        "   def __init__(self, nombre, edad): #se inicializa con nombre y edad \n",
        "      self.nombre= nombre\n",
        "      self.edad= edad"
      ]
    },
    {
      "cell_type": "code",
      "source": [
        "Kenneth = persona(\"Kenneth Herrera\", 22)"
      ],
      "metadata": {
        "id": "XtG6dH14JDVz"
      },
      "execution_count": 7,
      "outputs": []
    },
    {
      "cell_type": "code",
      "source": [
        "#Ejercicio 1. Imprimir Edad.\n",
        "Kenneth.edad"
      ],
      "metadata": {
        "colab": {
          "base_uri": "https://localhost:8080/"
        },
        "id": "5xT9fyfWRx1U",
        "outputId": "298e3de8-5c74-4007-ceb3-ce2e36aa246f"
      },
      "execution_count": 8,
      "outputs": [
        {
          "output_type": "execute_result",
          "data": {
            "text/plain": [
              "22"
            ]
          },
          "metadata": {},
          "execution_count": 8
        }
      ]
    }
  ]
}